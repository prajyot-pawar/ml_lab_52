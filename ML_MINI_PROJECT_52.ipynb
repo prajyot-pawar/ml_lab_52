{
 "cells": [
  {
   "cell_type": "code",
   "execution_count": 1,
   "id": "6ae15fc6",
   "metadata": {},
   "outputs": [
    {
     "name": "stderr",
     "output_type": "stream",
     "text": [
      "[nltk_data] Error loading stopwords: <urlopen error [Errno 11001]\n",
      "[nltk_data]     getaddrinfo failed>\n",
      "[nltk_data] Error loading wordnet: <urlopen error [Errno 11001]\n",
      "[nltk_data]     getaddrinfo failed>\n",
      "[nltk_data] Error loading punkt: <urlopen error [Errno 11001]\n",
      "[nltk_data]     getaddrinfo failed>\n"
     ]
    }
   ],
   "source": [
    "import pandas as pd\n",
    "import numpy as np\n",
    "import matplotlib.pyplot as plt\n",
    "import seaborn as sns\n",
    "import re\n",
    "import nltk\n",
    "from nltk.corpus import stopwords\n",
    "nltk.download('stopwords')\n",
    "from nltk.stem import PorterStemmer\n",
    "from nltk.stem import WordNetLemmatizer\n",
    "nltk.download('wordnet')\n",
    "from nltk.tokenize import word_tokenize\n",
    "from nltk.tokenize import sent_tokenize\n",
    "nltk.download('punkt')\n",
    "from wordcloud import WordCloud\n",
    "from sklearn.feature_extraction.text import CountVectorizer\n",
    "from sklearn.feature_extraction.text import TfidfVectorizer\n",
    "from sklearn.model_selection import train_test_split\n",
    "from sklearn.metrics import accuracy_score\n",
    "from sklearn.metrics import confusion_matrix\n",
    "from sklearn.metrics import classification_report\n",
    "from sklearn.metrics import make_scorer, roc_curve, roc_auc_score\n",
    "from sklearn.metrics import precision_recall_fscore_support as score\n",
    "from sklearn.metrics.pairwise import cosine_similarity\n",
    "from sklearn.multiclass import OneVsRestClassifier\n",
    "from sklearn.linear_model import LogisticRegression\n",
    "from sklearn.svm import SVC, LinearSVC\n",
    "from sklearn.tree import DecisionTreeClassifier\n",
    "from sklearn.ensemble import RandomForestClassifier\n",
    "from sklearn.neighbors import KNeighborsClassifier\n",
    "from sklearn.naive_bayes import GaussianNB,MultinomialNB,BernoulliNB\n",
    "import keras\n"
   ]
  },
  {
   "cell_type": "code",
   "execution_count": 2,
   "id": "0755c481",
   "metadata": {},
   "outputs": [
    {
     "data": {
      "text/html": [
       "<div>\n",
       "<style scoped>\n",
       "    .dataframe tbody tr th:only-of-type {\n",
       "        vertical-align: middle;\n",
       "    }\n",
       "\n",
       "    .dataframe tbody tr th {\n",
       "        vertical-align: top;\n",
       "    }\n",
       "\n",
       "    .dataframe thead th {\n",
       "        text-align: right;\n",
       "    }\n",
       "</style>\n",
       "<table border=\"1\" class=\"dataframe\">\n",
       "  <thead>\n",
       "    <tr style=\"text-align: right;\">\n",
       "      <th></th>\n",
       "      <th>ArticleId</th>\n",
       "      <th>Text</th>\n",
       "      <th>Category</th>\n",
       "    </tr>\n",
       "  </thead>\n",
       "  <tbody>\n",
       "    <tr>\n",
       "      <th>0</th>\n",
       "      <td>1833</td>\n",
       "      <td>worldcom ex-boss launches defence lawyers defe...</td>\n",
       "      <td>business</td>\n",
       "    </tr>\n",
       "    <tr>\n",
       "      <th>1</th>\n",
       "      <td>154</td>\n",
       "      <td>german business confidence slides german busin...</td>\n",
       "      <td>business</td>\n",
       "    </tr>\n",
       "    <tr>\n",
       "      <th>2</th>\n",
       "      <td>1101</td>\n",
       "      <td>bbc poll indicates economic gloom citizens in ...</td>\n",
       "      <td>business</td>\n",
       "    </tr>\n",
       "    <tr>\n",
       "      <th>3</th>\n",
       "      <td>1976</td>\n",
       "      <td>lifestyle  governs mobile choice  faster  bett...</td>\n",
       "      <td>tech</td>\n",
       "    </tr>\n",
       "    <tr>\n",
       "      <th>4</th>\n",
       "      <td>917</td>\n",
       "      <td>enron bosses in $168m payout eighteen former e...</td>\n",
       "      <td>business</td>\n",
       "    </tr>\n",
       "  </tbody>\n",
       "</table>\n",
       "</div>"
      ],
      "text/plain": [
       "   ArticleId                                               Text  Category\n",
       "0       1833  worldcom ex-boss launches defence lawyers defe...  business\n",
       "1        154  german business confidence slides german busin...  business\n",
       "2       1101  bbc poll indicates economic gloom citizens in ...  business\n",
       "3       1976  lifestyle  governs mobile choice  faster  bett...      tech\n",
       "4        917  enron bosses in $168m payout eighteen former e...  business"
      ]
     },
     "execution_count": 2,
     "metadata": {},
     "output_type": "execute_result"
    }
   ],
   "source": [
    "dataset = pd.read_csv(\"D:\\Sem 7\\ML\\m_Train.csv\")\n",
    "dataset.head()"
   ]
  },
  {
   "cell_type": "code",
   "execution_count": 3,
   "id": "d7a26294",
   "metadata": {},
   "outputs": [
    {
     "data": {
      "text/plain": [
       "(1490, 3)"
      ]
     },
     "execution_count": 3,
     "metadata": {},
     "output_type": "execute_result"
    }
   ],
   "source": [
    "dataset.shape"
   ]
  },
  {
   "cell_type": "code",
   "execution_count": 4,
   "id": "873256fd",
   "metadata": {},
   "outputs": [
    {
     "name": "stdout",
     "output_type": "stream",
     "text": [
      "<class 'pandas.core.frame.DataFrame'>\n",
      "RangeIndex: 1490 entries, 0 to 1489\n",
      "Data columns (total 3 columns):\n",
      " #   Column     Non-Null Count  Dtype \n",
      "---  ------     --------------  ----- \n",
      " 0   ArticleId  1490 non-null   int64 \n",
      " 1   Text       1490 non-null   object\n",
      " 2   Category   1490 non-null   object\n",
      "dtypes: int64(1), object(2)\n",
      "memory usage: 35.0+ KB\n"
     ]
    }
   ],
   "source": [
    "dataset.info()"
   ]
  },
  {
   "cell_type": "code",
   "execution_count": 5,
   "id": "96e39b11",
   "metadata": {},
   "outputs": [
    {
     "data": {
      "text/plain": [
       "sport            346\n",
       "business         336\n",
       "politics         274\n",
       "entertainment    273\n",
       "tech             261\n",
       "Name: Category, dtype: int64"
      ]
     },
     "execution_count": 5,
     "metadata": {},
     "output_type": "execute_result"
    }
   ],
   "source": [
    "dataset['Category'].value_counts()"
   ]
  },
  {
   "cell_type": "code",
   "execution_count": 6,
   "id": "3ac767c8",
   "metadata": {},
   "outputs": [
    {
     "name": "stdout",
     "output_type": "stream",
     "text": [
      "['business' 'tech' 'politics' 'sport' 'entertainment']\n"
     ]
    }
   ],
   "source": [
    "target_category = dataset['Category'].unique()\n",
    "print(target_category)"
   ]
  },
  {
   "cell_type": "code",
   "execution_count": 7,
   "id": "4e64de02",
   "metadata": {},
   "outputs": [
    {
     "data": {
      "text/html": [
       "<div>\n",
       "<style scoped>\n",
       "    .dataframe tbody tr th:only-of-type {\n",
       "        vertical-align: middle;\n",
       "    }\n",
       "\n",
       "    .dataframe tbody tr th {\n",
       "        vertical-align: top;\n",
       "    }\n",
       "\n",
       "    .dataframe thead th {\n",
       "        text-align: right;\n",
       "    }\n",
       "</style>\n",
       "<table border=\"1\" class=\"dataframe\">\n",
       "  <thead>\n",
       "    <tr style=\"text-align: right;\">\n",
       "      <th></th>\n",
       "      <th>ArticleId</th>\n",
       "      <th>Text</th>\n",
       "      <th>Category</th>\n",
       "      <th>CategoryId</th>\n",
       "    </tr>\n",
       "  </thead>\n",
       "  <tbody>\n",
       "    <tr>\n",
       "      <th>0</th>\n",
       "      <td>1833</td>\n",
       "      <td>worldcom ex-boss launches defence lawyers defe...</td>\n",
       "      <td>business</td>\n",
       "      <td>0</td>\n",
       "    </tr>\n",
       "    <tr>\n",
       "      <th>1</th>\n",
       "      <td>154</td>\n",
       "      <td>german business confidence slides german busin...</td>\n",
       "      <td>business</td>\n",
       "      <td>0</td>\n",
       "    </tr>\n",
       "    <tr>\n",
       "      <th>2</th>\n",
       "      <td>1101</td>\n",
       "      <td>bbc poll indicates economic gloom citizens in ...</td>\n",
       "      <td>business</td>\n",
       "      <td>0</td>\n",
       "    </tr>\n",
       "    <tr>\n",
       "      <th>3</th>\n",
       "      <td>1976</td>\n",
       "      <td>lifestyle  governs mobile choice  faster  bett...</td>\n",
       "      <td>tech</td>\n",
       "      <td>1</td>\n",
       "    </tr>\n",
       "    <tr>\n",
       "      <th>4</th>\n",
       "      <td>917</td>\n",
       "      <td>enron bosses in $168m payout eighteen former e...</td>\n",
       "      <td>business</td>\n",
       "      <td>0</td>\n",
       "    </tr>\n",
       "  </tbody>\n",
       "</table>\n",
       "</div>"
      ],
      "text/plain": [
       "   ArticleId                                               Text  Category  \\\n",
       "0       1833  worldcom ex-boss launches defence lawyers defe...  business   \n",
       "1        154  german business confidence slides german busin...  business   \n",
       "2       1101  bbc poll indicates economic gloom citizens in ...  business   \n",
       "3       1976  lifestyle  governs mobile choice  faster  bett...      tech   \n",
       "4        917  enron bosses in $168m payout eighteen former e...  business   \n",
       "\n",
       "   CategoryId  \n",
       "0           0  \n",
       "1           0  \n",
       "2           0  \n",
       "3           1  \n",
       "4           0  "
      ]
     },
     "execution_count": 7,
     "metadata": {},
     "output_type": "execute_result"
    }
   ],
   "source": [
    "dataset['CategoryId'] = dataset['Category'].factorize()[0]\n",
    "dataset.head()"
   ]
  },
  {
   "cell_type": "code",
   "execution_count": 8,
   "id": "8d780dc9",
   "metadata": {},
   "outputs": [
    {
     "data": {
      "text/html": [
       "<div>\n",
       "<style scoped>\n",
       "    .dataframe tbody tr th:only-of-type {\n",
       "        vertical-align: middle;\n",
       "    }\n",
       "\n",
       "    .dataframe tbody tr th {\n",
       "        vertical-align: top;\n",
       "    }\n",
       "\n",
       "    .dataframe thead th {\n",
       "        text-align: right;\n",
       "    }\n",
       "</style>\n",
       "<table border=\"1\" class=\"dataframe\">\n",
       "  <thead>\n",
       "    <tr style=\"text-align: right;\">\n",
       "      <th></th>\n",
       "      <th>Category</th>\n",
       "      <th>CategoryId</th>\n",
       "    </tr>\n",
       "  </thead>\n",
       "  <tbody>\n",
       "    <tr>\n",
       "      <th>0</th>\n",
       "      <td>business</td>\n",
       "      <td>0</td>\n",
       "    </tr>\n",
       "    <tr>\n",
       "      <th>3</th>\n",
       "      <td>tech</td>\n",
       "      <td>1</td>\n",
       "    </tr>\n",
       "    <tr>\n",
       "      <th>5</th>\n",
       "      <td>politics</td>\n",
       "      <td>2</td>\n",
       "    </tr>\n",
       "    <tr>\n",
       "      <th>6</th>\n",
       "      <td>sport</td>\n",
       "      <td>3</td>\n",
       "    </tr>\n",
       "    <tr>\n",
       "      <th>7</th>\n",
       "      <td>entertainment</td>\n",
       "      <td>4</td>\n",
       "    </tr>\n",
       "  </tbody>\n",
       "</table>\n",
       "</div>"
      ],
      "text/plain": [
       "        Category  CategoryId\n",
       "0       business           0\n",
       "3           tech           1\n",
       "5       politics           2\n",
       "6          sport           3\n",
       "7  entertainment           4"
      ]
     },
     "execution_count": 8,
     "metadata": {},
     "output_type": "execute_result"
    }
   ],
   "source": [
    "category = dataset[['Category', 'CategoryId']].drop_duplicates().sort_values('CategoryId')\n",
    "category"
   ]
  },
  {
   "cell_type": "code",
   "execution_count": 9,
   "id": "2e289095",
   "metadata": {},
   "outputs": [
    {
     "data": {
      "image/png": "[encoded data removed]",
      "text/plain": [
       "<Figure size 432x288 with 1 Axes>"
      ]
     },
     "metadata": {
      "needs_background": "light"
     },
     "output_type": "display_data"
    }
   ],
   "source": [
    "dataset.groupby('Category').CategoryId.value_counts().plot(kind = \"bar\", color = [\"pink\", \"orange\", \"red\", \"yellow\", \"blue\"])\n",
    "plt.xlabel(\"Category of data\")\n",
    "plt.title(\"Visulaize numbers of Category of data\")\n",
    "plt.show()"
   ]
  },
  {
   "cell_type": "code",
   "execution_count": 10,
   "id": "044e1891",
   "metadata": {},
   "outputs": [
    {
     "data": {
      "image/png": "[encoded data removed]",
      "text/plain": [
       "<Figure size 360x360 with 1 Axes>"
      ]
     },
     "metadata": {},
     "output_type": "display_data"
    }
   ],
   "source": [
    "fig = plt.figure(figsize = (5,5))\n",
    "colors = [\"skyblue\"]\n",
    "business = dataset[dataset['CategoryId'] == 0 ]\n",
    "tech = dataset[dataset['CategoryId'] == 1 ]\n",
    "politics = dataset[dataset['CategoryId'] == 2]\n",
    "sport = dataset[dataset['CategoryId'] == 3]\n",
    "entertainment = dataset[dataset['CategoryId'] == 4]\n",
    "count = [business['CategoryId'].count(), tech['CategoryId'].count(), politics['CategoryId'].count(), sport['CategoryId'].count(), entertainment['CategoryId'].count()]\n",
    "pie = plt.pie(count, labels = ['business', 'tech', 'politics', 'sport', 'entertainment'],\n",
    "              autopct = \"%1.1f%%\",\n",
    "              shadow = True,\n",
    "              colors = colors,\n",
    "              startangle = 45,\n",
    "              explode = (0.05, 0.05, 0.05, 0.05,0.05))"
   ]
  },
  {
   "cell_type": "code",
   "execution_count": null,
   "id": "2025a10d",
   "metadata": {},
   "outputs": [],
   "source": []
  },
  {
   "cell_type": "code",
   "execution_count": 11,
   "id": "7c75ec06",
   "metadata": {},
   "outputs": [
    {
     "data": {
      "text/plain": [
       "0    worldcom ex-boss launches defence lawyers defe...\n",
       "1    german business confidence slides german busin...\n",
       "2    bbc poll indicates economic gloom citizens in ...\n",
       "3    lifestyle  governs mobile choice  faster  bett...\n",
       "4    enron bosses in $168m payout eighteen former e...\n",
       "5    howard  truanted to play snooker  conservative...\n",
       "6    wales silent on grand slam talk rhys williams ...\n",
       "7    french honour for director parker british film...\n",
       "8    car giant hit by mercedes slump a slump in pro...\n",
       "9    fockers fuel festive film chart comedy meet th...\n",
       "Name: Text, dtype: object"
      ]
     },
     "execution_count": 11,
     "metadata": {},
     "output_type": "execute_result"
    }
   ],
   "source": [
    "text = dataset[\"Text\"]\n",
    "text.head(10)"
   ]
  },
  {
   "cell_type": "code",
   "execution_count": 12,
   "id": "e68ec70a",
   "metadata": {},
   "outputs": [
    {
     "data": {
      "text/plain": [
       "0         business\n",
       "1         business\n",
       "2         business\n",
       "3             tech\n",
       "4         business\n",
       "5         politics\n",
       "6            sport\n",
       "7    entertainment\n",
       "8         business\n",
       "9    entertainment\n",
       "Name: Category, dtype: object"
      ]
     },
     "execution_count": 12,
     "metadata": {},
     "output_type": "execute_result"
    }
   ],
   "source": [
    "category = dataset['Category']\n",
    "category.head(10)"
   ]
  },
  {
   "cell_type": "code",
   "execution_count": 13,
   "id": "32fe7e3f",
   "metadata": {},
   "outputs": [],
   "source": [
    "def remove_tags(text):\n",
    "  remove = re.compile(r'')\n",
    "  return re.sub(remove, '', text)\n",
    "dataset['Text'] = dataset['Text'].apply(remove_tags)"
   ]
  },
  {
   "cell_type": "code",
   "execution_count": 14,
   "id": "60764b79",
   "metadata": {},
   "outputs": [],
   "source": [
    "def special_char(text):\n",
    "  reviews = ''\n",
    "  for x in text:\n",
    "    if x.isalnum():\n",
    "      reviews = reviews + x\n",
    "    else:\n",
    "      reviews = reviews + ' '\n",
    "  return reviews\n",
    "dataset['Text'] = dataset['Text'].apply(special_char)"
   ]
  },
  {
   "cell_type": "code",
   "execution_count": 15,
   "id": "615c414c",
   "metadata": {},
   "outputs": [
    {
     "data": {
      "text/plain": [
       "'german business confidence slides german business confidence fell in february knocking hopes of a speedy recovery in europe s largest economy   munich based research institute ifo said that its confidence index fell to 95 5 in february from 97 5 in january  its first decline in three months  the study found that the outlook in both the manufacturing and retail sectors had worsened  observers had been hoping that a more confident business sector would signal that economic activity was picking up    we re surprised that the ifo index has taken such a knock   said dz bank economist bernd weidensteiner   the main reason is probably that the domestic economy is still weak  particularly in the retail trade   economy and labour minister wolfgang clement called the dip in february s ifo confidence figure  a very mild decline   he said that despite the retreat  the index remained at a relatively high level and that he expected  a modest economic upswing  to continue   germany s economy grew 1 6  last year after shrinking in 2003  however  the economy contracted by 0 2  during the last three months of 2004  mainly due to the reluctance of consumers to spend  latest indications are that growth is still proving elusive and ifo president hans werner sinn said any improvement in german domestic demand was sluggish  exports had kept things going during the first half of 2004  but demand for exports was then hit as the value of the euro hit record levels making german products less competitive overseas  on top of that  the unemployment rate has been stuck at close to 10  and manufacturing firms  including daimlerchrysler  siemens and volkswagen  have been negotiating with unions over cost cutting measures  analysts said that the ifo figures and germany s continuing problems may delay an interest rate rise by the european central bank  eurozone interest rates are at 2   but comments from senior officials have recently focused on the threat of inflation  prompting fears that interest rates may rise '"
      ]
     },
     "execution_count": 15,
     "metadata": {},
     "output_type": "execute_result"
    }
   ],
   "source": [
    "def convert_lower(text):\n",
    "   return text.lower()\n",
    "dataset['Text'] = dataset['Text'].apply(convert_lower)\n",
    "dataset['Text'][1]"
   ]
  },
  {
   "cell_type": "code",
   "execution_count": 16,
   "id": "afd8e469",
   "metadata": {},
   "outputs": [
    {
     "data": {
      "text/plain": [
       "['german',\n",
       " 'business',\n",
       " 'confidence',\n",
       " 'slides',\n",
       " 'german',\n",
       " 'business',\n",
       " 'confidence',\n",
       " 'fell',\n",
       " 'february',\n",
       " 'knocking',\n",
       " 'hopes',\n",
       " 'speedy',\n",
       " 'recovery',\n",
       " 'europe',\n",
       " 'largest',\n",
       " 'economy',\n",
       " 'munich',\n",
       " 'based',\n",
       " 'research',\n",
       " 'institute',\n",
       " 'ifo',\n",
       " 'said',\n",
       " 'confidence',\n",
       " 'index',\n",
       " 'fell',\n",
       " '95',\n",
       " '5',\n",
       " 'february',\n",
       " '97',\n",
       " '5',\n",
       " 'january',\n",
       " 'first',\n",
       " 'decline',\n",
       " 'three',\n",
       " 'months',\n",
       " 'study',\n",
       " 'found',\n",
       " 'outlook',\n",
       " 'manufacturing',\n",
       " 'retail',\n",
       " 'sectors',\n",
       " 'worsened',\n",
       " 'observers',\n",
       " 'hoping',\n",
       " 'confident',\n",
       " 'business',\n",
       " 'sector',\n",
       " 'would',\n",
       " 'signal',\n",
       " 'economic',\n",
       " 'activity',\n",
       " 'picking',\n",
       " 'surprised',\n",
       " 'ifo',\n",
       " 'index',\n",
       " 'taken',\n",
       " 'knock',\n",
       " 'said',\n",
       " 'dz',\n",
       " 'bank',\n",
       " 'economist',\n",
       " 'bernd',\n",
       " 'weidensteiner',\n",
       " 'main',\n",
       " 'reason',\n",
       " 'probably',\n",
       " 'domestic',\n",
       " 'economy',\n",
       " 'still',\n",
       " 'weak',\n",
       " 'particularly',\n",
       " 'retail',\n",
       " 'trade',\n",
       " 'economy',\n",
       " 'labour',\n",
       " 'minister',\n",
       " 'wolfgang',\n",
       " 'clement',\n",
       " 'called',\n",
       " 'dip',\n",
       " 'february',\n",
       " 'ifo',\n",
       " 'confidence',\n",
       " 'figure',\n",
       " 'mild',\n",
       " 'decline',\n",
       " 'said',\n",
       " 'despite',\n",
       " 'retreat',\n",
       " 'index',\n",
       " 'remained',\n",
       " 'relatively',\n",
       " 'high',\n",
       " 'level',\n",
       " 'expected',\n",
       " 'modest',\n",
       " 'economic',\n",
       " 'upswing',\n",
       " 'continue',\n",
       " 'germany',\n",
       " 'economy',\n",
       " 'grew',\n",
       " '1',\n",
       " '6',\n",
       " 'last',\n",
       " 'year',\n",
       " 'shrinking',\n",
       " '2003',\n",
       " 'however',\n",
       " 'economy',\n",
       " 'contracted',\n",
       " '0',\n",
       " '2',\n",
       " 'last',\n",
       " 'three',\n",
       " 'months',\n",
       " '2004',\n",
       " 'mainly',\n",
       " 'due',\n",
       " 'reluctance',\n",
       " 'consumers',\n",
       " 'spend',\n",
       " 'latest',\n",
       " 'indications',\n",
       " 'growth',\n",
       " 'still',\n",
       " 'proving',\n",
       " 'elusive',\n",
       " 'ifo',\n",
       " 'president',\n",
       " 'hans',\n",
       " 'werner',\n",
       " 'sinn',\n",
       " 'said',\n",
       " 'improvement',\n",
       " 'german',\n",
       " 'domestic',\n",
       " 'demand',\n",
       " 'sluggish',\n",
       " 'exports',\n",
       " 'kept',\n",
       " 'things',\n",
       " 'going',\n",
       " 'first',\n",
       " 'half',\n",
       " '2004',\n",
       " 'demand',\n",
       " 'exports',\n",
       " 'hit',\n",
       " 'value',\n",
       " 'euro',\n",
       " 'hit',\n",
       " 'record',\n",
       " 'levels',\n",
       " 'making',\n",
       " 'german',\n",
       " 'products',\n",
       " 'less',\n",
       " 'competitive',\n",
       " 'overseas',\n",
       " 'top',\n",
       " 'unemployment',\n",
       " 'rate',\n",
       " 'stuck',\n",
       " 'close',\n",
       " '10',\n",
       " 'manufacturing',\n",
       " 'firms',\n",
       " 'including',\n",
       " 'daimlerchrysler',\n",
       " 'siemens',\n",
       " 'volkswagen',\n",
       " 'negotiating',\n",
       " 'unions',\n",
       " 'cost',\n",
       " 'cutting',\n",
       " 'measures',\n",
       " 'analysts',\n",
       " 'said',\n",
       " 'ifo',\n",
       " 'figures',\n",
       " 'germany',\n",
       " 'continuing',\n",
       " 'problems',\n",
       " 'may',\n",
       " 'delay',\n",
       " 'interest',\n",
       " 'rate',\n",
       " 'rise',\n",
       " 'european',\n",
       " 'central',\n",
       " 'bank',\n",
       " 'eurozone',\n",
       " 'interest',\n",
       " 'rates',\n",
       " '2',\n",
       " 'comments',\n",
       " 'senior',\n",
       " 'officials',\n",
       " 'recently',\n",
       " 'focused',\n",
       " 'threat',\n",
       " 'inflation',\n",
       " 'prompting',\n",
       " 'fears',\n",
       " 'interest',\n",
       " 'rates',\n",
       " 'may',\n",
       " 'rise']"
      ]
     },
     "execution_count": 16,
     "metadata": {},
     "output_type": "execute_result"
    }
   ],
   "source": [
    "def remove_stopwords(text):\n",
    "  stop_words = set(stopwords.words('english'))\n",
    "  words = word_tokenize(text)\n",
    "  return [x for x in words if x not in stop_words]\n",
    "dataset['Text'] = dataset['Text'].apply(remove_stopwords)\n",
    "dataset['Text'][1]\n"
   ]
  },
  {
   "cell_type": "code",
   "execution_count": 17,
   "id": "af178fa7",
   "metadata": {},
   "outputs": [
    {
     "data": {
      "text/html": [
       "<div>\n",
       "<style scoped>\n",
       "    .dataframe tbody tr th:only-of-type {\n",
       "        vertical-align: middle;\n",
       "    }\n",
       "\n",
       "    .dataframe tbody tr th {\n",
       "        vertical-align: top;\n",
       "    }\n",
       "\n",
       "    .dataframe thead th {\n",
       "        text-align: right;\n",
       "    }\n",
       "</style>\n",
       "<table border=\"1\" class=\"dataframe\">\n",
       "  <thead>\n",
       "    <tr style=\"text-align: right;\">\n",
       "      <th></th>\n",
       "      <th>ArticleId</th>\n",
       "      <th>Text</th>\n",
       "      <th>Category</th>\n",
       "      <th>CategoryId</th>\n",
       "    </tr>\n",
       "  </thead>\n",
       "  <tbody>\n",
       "    <tr>\n",
       "      <th>0</th>\n",
       "      <td>1833</td>\n",
       "      <td>[worldcom, ex, boss, launches, defence, lawyer...</td>\n",
       "      <td>business</td>\n",
       "      <td>0</td>\n",
       "    </tr>\n",
       "    <tr>\n",
       "      <th>1</th>\n",
       "      <td>154</td>\n",
       "      <td>[german, business, confidence, slides, german,...</td>\n",
       "      <td>business</td>\n",
       "      <td>0</td>\n",
       "    </tr>\n",
       "    <tr>\n",
       "      <th>2</th>\n",
       "      <td>1101</td>\n",
       "      <td>[bbc, poll, indicates, economic, gloom, citize...</td>\n",
       "      <td>business</td>\n",
       "      <td>0</td>\n",
       "    </tr>\n",
       "    <tr>\n",
       "      <th>3</th>\n",
       "      <td>1976</td>\n",
       "      <td>[lifestyle, governs, mobile, choice, faster, b...</td>\n",
       "      <td>tech</td>\n",
       "      <td>1</td>\n",
       "    </tr>\n",
       "    <tr>\n",
       "      <th>4</th>\n",
       "      <td>917</td>\n",
       "      <td>[enron, bosses, 168m, payout, eighteen, former...</td>\n",
       "      <td>business</td>\n",
       "      <td>0</td>\n",
       "    </tr>\n",
       "    <tr>\n",
       "      <th>...</th>\n",
       "      <td>...</td>\n",
       "      <td>...</td>\n",
       "      <td>...</td>\n",
       "      <td>...</td>\n",
       "    </tr>\n",
       "    <tr>\n",
       "      <th>1485</th>\n",
       "      <td>857</td>\n",
       "      <td>[double, eviction, big, brother, model, capric...</td>\n",
       "      <td>entertainment</td>\n",
       "      <td>4</td>\n",
       "    </tr>\n",
       "    <tr>\n",
       "      <th>1486</th>\n",
       "      <td>325</td>\n",
       "      <td>[dj, double, act, revamp, chart, show, dj, duo...</td>\n",
       "      <td>entertainment</td>\n",
       "      <td>4</td>\n",
       "    </tr>\n",
       "    <tr>\n",
       "      <th>1487</th>\n",
       "      <td>1590</td>\n",
       "      <td>[weak, dollar, hits, reuters, revenues, media,...</td>\n",
       "      <td>business</td>\n",
       "      <td>0</td>\n",
       "    </tr>\n",
       "    <tr>\n",
       "      <th>1488</th>\n",
       "      <td>1587</td>\n",
       "      <td>[apple, ipod, family, expands, market, apple, ...</td>\n",
       "      <td>tech</td>\n",
       "      <td>1</td>\n",
       "    </tr>\n",
       "    <tr>\n",
       "      <th>1489</th>\n",
       "      <td>538</td>\n",
       "      <td>[santy, worm, makes, unwelcome, visit, thousan...</td>\n",
       "      <td>tech</td>\n",
       "      <td>1</td>\n",
       "    </tr>\n",
       "  </tbody>\n",
       "</table>\n",
       "<p>1490 rows × 4 columns</p>\n",
       "</div>"
      ],
      "text/plain": [
       "      ArticleId                                               Text  \\\n",
       "0          1833  [worldcom, ex, boss, launches, defence, lawyer...   \n",
       "1           154  [german, business, confidence, slides, german,...   \n",
       "2          1101  [bbc, poll, indicates, economic, gloom, citize...   \n",
       "3          1976  [lifestyle, governs, mobile, choice, faster, b...   \n",
       "4           917  [enron, bosses, 168m, payout, eighteen, former...   \n",
       "...         ...                                                ...   \n",
       "1485        857  [double, eviction, big, brother, model, capric...   \n",
       "1486        325  [dj, double, act, revamp, chart, show, dj, duo...   \n",
       "1487       1590  [weak, dollar, hits, reuters, revenues, media,...   \n",
       "1488       1587  [apple, ipod, family, expands, market, apple, ...   \n",
       "1489        538  [santy, worm, makes, unwelcome, visit, thousan...   \n",
       "\n",
       "           Category  CategoryId  \n",
       "0          business           0  \n",
       "1          business           0  \n",
       "2          business           0  \n",
       "3              tech           1  \n",
       "4          business           0  \n",
       "...             ...         ...  \n",
       "1485  entertainment           4  \n",
       "1486  entertainment           4  \n",
       "1487       business           0  \n",
       "1488           tech           1  \n",
       "1489           tech           1  \n",
       "\n",
       "[1490 rows x 4 columns]"
      ]
     },
     "execution_count": 17,
     "metadata": {},
     "output_type": "execute_result"
    }
   ],
   "source": [
    "dataset"
   ]
  },
  {
   "cell_type": "code",
   "execution_count": null,
   "id": "991b142e",
   "metadata": {},
   "outputs": [],
   "source": []
  },
  {
   "cell_type": "code",
   "execution_count": 18,
   "id": "0a59a85d",
   "metadata": {},
   "outputs": [
    {
     "name": "stderr",
     "output_type": "stream",
     "text": [
      "[nltk_data] Error loading omw-1.4: <urlopen error [Errno 11001]\n",
      "[nltk_data]     getaddrinfo failed>\n"
     ]
    },
    {
     "data": {
      "text/plain": [
       "False"
      ]
     },
     "execution_count": 18,
     "metadata": {},
     "output_type": "execute_result"
    }
   ],
   "source": [
    "nltk.download('omw-1.4')"
   ]
  },
  {
   "cell_type": "code",
   "execution_count": 19,
   "id": "89404c9d",
   "metadata": {},
   "outputs": [
    {
     "data": {
      "text/plain": [
       "'german business confidence slide german business confidence fell february knocking hope speedy recovery europe largest economy munich based research institute ifo said confidence index fell 95 5 february 97 5 january first decline three month study found outlook manufacturing retail sector worsened observer hoping confident business sector would signal economic activity picking surprised ifo index taken knock said dz bank economist bernd weidensteiner main reason probably domestic economy still weak particularly retail trade economy labour minister wolfgang clement called dip february ifo confidence figure mild decline said despite retreat index remained relatively high level expected modest economic upswing continue germany economy grew 1 6 last year shrinking 2003 however economy contracted 0 2 last three month 2004 mainly due reluctance consumer spend latest indication growth still proving elusive ifo president han werner sinn said improvement german domestic demand sluggish export kept thing going first half 2004 demand export hit value euro hit record level making german product le competitive overseas top unemployment rate stuck close 10 manufacturing firm including daimlerchrysler siemens volkswagen negotiating union cost cutting measure analyst said ifo figure germany continuing problem may delay interest rate rise european central bank eurozone interest rate 2 comment senior official recently focused threat inflation prompting fear interest rate may rise'"
      ]
     },
     "execution_count": 19,
     "metadata": {},
     "output_type": "execute_result"
    }
   ],
   "source": [
    "def lemmatize_word(text):\n",
    "  wordnet = WordNetLemmatizer()\n",
    "  return \" \".join([wordnet.lemmatize(word) for word in text])\n",
    "dataset['Text'] = dataset['Text'].apply(lemmatize_word)\n",
    "dataset['Text'][1]"
   ]
  },
  {
   "cell_type": "code",
   "execution_count": 20,
   "id": "20b9528c",
   "metadata": {},
   "outputs": [
    {
     "data": {
      "text/html": [
       "<div>\n",
       "<style scoped>\n",
       "    .dataframe tbody tr th:only-of-type {\n",
       "        vertical-align: middle;\n",
       "    }\n",
       "\n",
       "    .dataframe tbody tr th {\n",
       "        vertical-align: top;\n",
       "    }\n",
       "\n",
       "    .dataframe thead th {\n",
       "        text-align: right;\n",
       "    }\n",
       "</style>\n",
       "<table border=\"1\" class=\"dataframe\">\n",
       "  <thead>\n",
       "    <tr style=\"text-align: right;\">\n",
       "      <th></th>\n",
       "      <th>ArticleId</th>\n",
       "      <th>Text</th>\n",
       "      <th>Category</th>\n",
       "      <th>CategoryId</th>\n",
       "    </tr>\n",
       "  </thead>\n",
       "  <tbody>\n",
       "    <tr>\n",
       "      <th>0</th>\n",
       "      <td>1833</td>\n",
       "      <td>worldcom ex bos launch defence lawyer defendin...</td>\n",
       "      <td>business</td>\n",
       "      <td>0</td>\n",
       "    </tr>\n",
       "    <tr>\n",
       "      <th>1</th>\n",
       "      <td>154</td>\n",
       "      <td>german business confidence slide german busine...</td>\n",
       "      <td>business</td>\n",
       "      <td>0</td>\n",
       "    </tr>\n",
       "    <tr>\n",
       "      <th>2</th>\n",
       "      <td>1101</td>\n",
       "      <td>bbc poll indicates economic gloom citizen majo...</td>\n",
       "      <td>business</td>\n",
       "      <td>0</td>\n",
       "    </tr>\n",
       "    <tr>\n",
       "      <th>3</th>\n",
       "      <td>1976</td>\n",
       "      <td>lifestyle governs mobile choice faster better ...</td>\n",
       "      <td>tech</td>\n",
       "      <td>1</td>\n",
       "    </tr>\n",
       "    <tr>\n",
       "      <th>4</th>\n",
       "      <td>917</td>\n",
       "      <td>enron boss 168m payout eighteen former enron d...</td>\n",
       "      <td>business</td>\n",
       "      <td>0</td>\n",
       "    </tr>\n",
       "    <tr>\n",
       "      <th>...</th>\n",
       "      <td>...</td>\n",
       "      <td>...</td>\n",
       "      <td>...</td>\n",
       "      <td>...</td>\n",
       "    </tr>\n",
       "    <tr>\n",
       "      <th>1485</th>\n",
       "      <td>857</td>\n",
       "      <td>double eviction big brother model caprice holb...</td>\n",
       "      <td>entertainment</td>\n",
       "      <td>4</td>\n",
       "    </tr>\n",
       "    <tr>\n",
       "      <th>1486</th>\n",
       "      <td>325</td>\n",
       "      <td>dj double act revamp chart show dj duo jk joel...</td>\n",
       "      <td>entertainment</td>\n",
       "      <td>4</td>\n",
       "    </tr>\n",
       "    <tr>\n",
       "      <th>1487</th>\n",
       "      <td>1590</td>\n",
       "      <td>weak dollar hit reuters revenue medium group r...</td>\n",
       "      <td>business</td>\n",
       "      <td>0</td>\n",
       "    </tr>\n",
       "    <tr>\n",
       "      <th>1488</th>\n",
       "      <td>1587</td>\n",
       "      <td>apple ipod family expands market apple expande...</td>\n",
       "      <td>tech</td>\n",
       "      <td>1</td>\n",
       "    </tr>\n",
       "    <tr>\n",
       "      <th>1489</th>\n",
       "      <td>538</td>\n",
       "      <td>santy worm make unwelcome visit thousand websi...</td>\n",
       "      <td>tech</td>\n",
       "      <td>1</td>\n",
       "    </tr>\n",
       "  </tbody>\n",
       "</table>\n",
       "<p>1490 rows × 4 columns</p>\n",
       "</div>"
      ],
      "text/plain": [
       "      ArticleId                                               Text  \\\n",
       "0          1833  worldcom ex bos launch defence lawyer defendin...   \n",
       "1           154  german business confidence slide german busine...   \n",
       "2          1101  bbc poll indicates economic gloom citizen majo...   \n",
       "3          1976  lifestyle governs mobile choice faster better ...   \n",
       "4           917  enron boss 168m payout eighteen former enron d...   \n",
       "...         ...                                                ...   \n",
       "1485        857  double eviction big brother model caprice holb...   \n",
       "1486        325  dj double act revamp chart show dj duo jk joel...   \n",
       "1487       1590  weak dollar hit reuters revenue medium group r...   \n",
       "1488       1587  apple ipod family expands market apple expande...   \n",
       "1489        538  santy worm make unwelcome visit thousand websi...   \n",
       "\n",
       "           Category  CategoryId  \n",
       "0          business           0  \n",
       "1          business           0  \n",
       "2          business           0  \n",
       "3              tech           1  \n",
       "4          business           0  \n",
       "...             ...         ...  \n",
       "1485  entertainment           4  \n",
       "1486  entertainment           4  \n",
       "1487       business           0  \n",
       "1488           tech           1  \n",
       "1489           tech           1  \n",
       "\n",
       "[1490 rows x 4 columns]"
      ]
     },
     "execution_count": 20,
     "metadata": {},
     "output_type": "execute_result"
    }
   ],
   "source": [
    "dataset"
   ]
  },
  {
   "cell_type": "code",
   "execution_count": 21,
   "id": "8d62b015",
   "metadata": {},
   "outputs": [],
   "source": [
    "x = dataset['Text']\n",
    "y = dataset['CategoryId']"
   ]
  },
  {
   "cell_type": "code",
   "execution_count": 22,
   "id": "cc2ca432",
   "metadata": {},
   "outputs": [
    {
     "name": "stdout",
     "output_type": "stream",
     "text": [
      "X.shape =  (1490, 5000)\n",
      "y.shape =  (1490,)\n"
     ]
    }
   ],
   "source": [
    "from sklearn.feature_extraction.text import CountVectorizer\n",
    "x = np.array(dataset.iloc[:,0].values)\n",
    "y = np.array(dataset.CategoryId.values)\n",
    "cv = CountVectorizer(max_features = 5000)\n",
    "x = cv.fit_transform(dataset.Text).toarray()\n",
    "print(\"X.shape = \",x.shape)\n",
    "print(\"y.shape = \",y.shape)"
   ]
  },
  {
   "cell_type": "code",
   "execution_count": 23,
   "id": "4a87e702",
   "metadata": {},
   "outputs": [
    {
     "name": "stdout",
     "output_type": "stream",
     "text": [
      "1043\n",
      "447\n"
     ]
    }
   ],
   "source": [
    "from sklearn.model_selection import train_test_split\n",
    "x_train, x_test, y_train, y_test = train_test_split(x, y, test_size = 0.3, random_state = 0, shuffle = True)\n",
    "print(len(x_train))\n",
    "print(len(x_test))\n",
    "perform_list = [ ]"
   ]
  },
  {
   "cell_type": "code",
   "execution_count": 24,
   "id": "c3da1bd8",
   "metadata": {},
   "outputs": [],
   "source": [
    "\n",
    "def run_model(model_name, est_c, est_pnlty):\n",
    "\n",
    " mdl=''\n",
    "\n",
    " if model_name == 'Logistic Regression':\n",
    "\n",
    "  mdl = LogisticRegression()\n",
    "\n",
    " elif model_name == 'Random Forest':\n",
    "\n",
    "  mdl = RandomForestClassifier(n_estimators=100 ,criterion='entropy' , random_state=0)\n",
    "\n",
    " elif model_name == 'Multinomial Naive Bayes':\n",
    "\n",
    "  mdl = MultinomialNB(alpha=1.0,fit_prior=True)\n",
    "\n",
    " elif model_name == 'Support Vector Classifer':\n",
    "\n",
    "  mdl = SVC()\n",
    "\n",
    " elif model_name == 'Decision Tree Classifier':\n",
    "\n",
    "  mdl = DecisionTreeClassifier()\n",
    "\n",
    " elif model_name == 'K Nearest Neighbour':\n",
    "\n",
    "  mdl = KNeighborsClassifier(n_neighbors=10 , metric= 'minkowski' , p = 4)\n",
    "\n",
    " elif model_name == 'Gaussian Naive Bayes':\n",
    "\n",
    "  mdl = GaussianNB()\n",
    " \n",
    " oneVsRest = OneVsRestClassifier(mdl)\n",
    "\n",
    " oneVsRest.fit(x_train, y_train)\n",
    " y_pred = oneVsRest.predict(x_test)\n",
    "\n",
    " accuracy = round(accuracy_score(y_test, y_pred) * 100, 2)\n",
    "\n",
    " \n",
    " precision, recall, f1score, support = score(y_test, y_pred, average='micro')\n",
    "\n",
    " print(f'Test Accuracy Score of Basic {model_name}: % {accuracy}')\n",
    " \n",
    " print(f'Precision : {precision}')\n",
    "\n",
    " print(f'Recall : {recall}')\n",
    "\n",
    " print(f'F1-score : {f1score}')\n",
    "\n",
    " perform_list.append(dict([\n",
    "\n",
    "   ('Model', model_name),\n",
    "\n",
    "   ('Test Accuracy', round(accuracy, 2)),\n",
    "\n",
    "   ('Precision', round(precision, 2)),\n",
    "\n",
    "   ('Recall', round(recall, 2)),\n",
    "\n",
    "   ('F1', round(f1score, 2))\n",
    "\n",
    "  ]))"
   ]
  },
  {
   "cell_type": "code",
   "execution_count": 25,
   "id": "27052484",
   "metadata": {},
   "outputs": [
    {
     "name": "stdout",
     "output_type": "stream",
     "text": [
      "Test Accuracy Score of Basic Logistic Regression: % 97.09\n",
      "Precision : 0.970917225950783\n",
      "Recall : 0.970917225950783\n",
      "F1-score : 0.9709172259507831\n"
     ]
    }
   ],
   "source": [
    "run_model('Logistic Regression', est_c=None, est_pnlty=None)"
   ]
  },
  {
   "cell_type": "code",
   "execution_count": 26,
   "id": "bd2ca68a",
   "metadata": {},
   "outputs": [
    {
     "name": "stdout",
     "output_type": "stream",
     "text": [
      "Test Accuracy Score of Basic Random Forest: % 97.99\n",
      "Precision : 0.9798657718120806\n",
      "Recall : 0.9798657718120806\n",
      "F1-score : 0.9798657718120806\n"
     ]
    }
   ],
   "source": [
    "run_model('Random Forest', est_c=None, est_pnlty=None)"
   ]
  },
  {
   "cell_type": "code",
   "execution_count": 27,
   "id": "abdd0713",
   "metadata": {},
   "outputs": [
    {
     "name": "stdout",
     "output_type": "stream",
     "text": [
      "Test Accuracy Score of Basic Multinomial Naive Bayes: % 97.09\n",
      "Precision : 0.970917225950783\n",
      "Recall : 0.970917225950783\n",
      "F1-score : 0.9709172259507831\n"
     ]
    }
   ],
   "source": [
    "run_model('Multinomial Naive Bayes', est_c=None, est_pnlty=None)"
   ]
  },
  {
   "cell_type": "code",
   "execution_count": 28,
   "id": "4981dd6e",
   "metadata": {},
   "outputs": [
    {
     "name": "stdout",
     "output_type": "stream",
     "text": [
      "Test Accuracy Score of Basic Support Vector Classifer: % 96.64\n",
      "Precision : 0.9664429530201343\n",
      "Recall : 0.9664429530201343\n",
      "F1-score : 0.9664429530201343\n"
     ]
    }
   ],
   "source": [
    "run_model('Support Vector Classifer', est_c=None, est_pnlty=None)"
   ]
  },
  {
   "cell_type": "code",
   "execution_count": 29,
   "id": "b60a6b1c",
   "metadata": {},
   "outputs": [
    {
     "name": "stdout",
     "output_type": "stream",
     "text": [
      "Test Accuracy Score of Basic Decision Tree Classifier: % 82.1\n",
      "Precision : 0.8210290827740492\n",
      "Recall : 0.8210290827740492\n",
      "F1-score : 0.8210290827740493\n"
     ]
    }
   ],
   "source": [
    "run_model('Decision Tree Classifier', est_c=None, est_pnlty=None)"
   ]
  },
  {
   "cell_type": "code",
   "execution_count": 30,
   "id": "1ead169a",
   "metadata": {},
   "outputs": [
    {
     "data": {
      "text/html": [
       "<div>\n",
       "<style scoped>\n",
       "    .dataframe tbody tr th:only-of-type {\n",
       "        vertical-align: middle;\n",
       "    }\n",
       "\n",
       "    .dataframe tbody tr th {\n",
       "        vertical-align: top;\n",
       "    }\n",
       "\n",
       "    .dataframe thead th {\n",
       "        text-align: right;\n",
       "    }\n",
       "</style>\n",
       "<table border=\"1\" class=\"dataframe\">\n",
       "  <thead>\n",
       "    <tr style=\"text-align: right;\">\n",
       "      <th></th>\n",
       "      <th>Model</th>\n",
       "      <th>Test Accuracy</th>\n",
       "      <th>Precision</th>\n",
       "      <th>Recall</th>\n",
       "      <th>F1</th>\n",
       "    </tr>\n",
       "  </thead>\n",
       "  <tbody>\n",
       "    <tr>\n",
       "      <th>0</th>\n",
       "      <td>Logistic Regression</td>\n",
       "      <td>97.09</td>\n",
       "      <td>0.97</td>\n",
       "      <td>0.97</td>\n",
       "      <td>0.97</td>\n",
       "    </tr>\n",
       "    <tr>\n",
       "      <th>1</th>\n",
       "      <td>Random Forest</td>\n",
       "      <td>97.99</td>\n",
       "      <td>0.98</td>\n",
       "      <td>0.98</td>\n",
       "      <td>0.98</td>\n",
       "    </tr>\n",
       "    <tr>\n",
       "      <th>2</th>\n",
       "      <td>Multinomial Naive Bayes</td>\n",
       "      <td>97.09</td>\n",
       "      <td>0.97</td>\n",
       "      <td>0.97</td>\n",
       "      <td>0.97</td>\n",
       "    </tr>\n",
       "    <tr>\n",
       "      <th>3</th>\n",
       "      <td>Support Vector Classifer</td>\n",
       "      <td>96.64</td>\n",
       "      <td>0.97</td>\n",
       "      <td>0.97</td>\n",
       "      <td>0.97</td>\n",
       "    </tr>\n",
       "    <tr>\n",
       "      <th>4</th>\n",
       "      <td>Decision Tree Classifier</td>\n",
       "      <td>82.10</td>\n",
       "      <td>0.82</td>\n",
       "      <td>0.82</td>\n",
       "      <td>0.82</td>\n",
       "    </tr>\n",
       "  </tbody>\n",
       "</table>\n",
       "</div>"
      ],
      "text/plain": [
       "                      Model  Test Accuracy  Precision  Recall    F1\n",
       "0       Logistic Regression          97.09       0.97    0.97  0.97\n",
       "1             Random Forest          97.99       0.98    0.98  0.98\n",
       "2   Multinomial Naive Bayes          97.09       0.97    0.97  0.97\n",
       "3  Support Vector Classifer          96.64       0.97    0.97  0.97\n",
       "4  Decision Tree Classifier          82.10       0.82    0.82  0.82"
      ]
     },
     "execution_count": 30,
     "metadata": {},
     "output_type": "execute_result"
    }
   ],
   "source": [
    "model_performance = pd.DataFrame(data=perform_list)\n",
    "model_performance = model_performance[['Model', 'Test Accuracy', 'Precision', 'Recall', 'F1']]\n",
    "model_performance"
   ]
  },
  {
   "cell_type": "code",
   "execution_count": 31,
   "id": "63ffd1d3",
   "metadata": {},
   "outputs": [
    {
     "name": "stdout",
     "output_type": "stream",
     "text": [
      "The best accuracy of model is 97.99 from 0         Logistic Regression\n",
      "1               Random Forest\n",
      "2     Multinomial Naive Bayes\n",
      "3    Support Vector Classifer\n",
      "4    Decision Tree Classifier\n",
      "Name: Model, dtype: object\n"
     ]
    }
   ],
   "source": [
    "model = model_performance[\"Model\"]\n",
    "max_value = model_performance[\"Test Accuracy\"].max()\n",
    "# position=model_performance.idxmax()\n",
    "print(\"The best accuracy of model is\", max_value,\"from\",model)"
   ]
  },
  {
   "cell_type": "code",
   "execution_count": 32,
   "id": "55c2c5a5",
   "metadata": {},
   "outputs": [
    {
     "name": "stdout",
     "output_type": "stream",
     "text": [
      "                      Model  Test Accuracy  Precision  Recall    F1\n",
      "0       Logistic Regression          97.09       0.97    0.97  0.97\n",
      "1             Random Forest          97.99       0.98    0.98  0.98\n",
      "2   Multinomial Naive Bayes          97.09       0.97    0.97  0.97\n",
      "3  Support Vector Classifer          96.64       0.97    0.97  0.97\n",
      "4  Decision Tree Classifier          82.10       0.82    0.82  0.82\n"
     ]
    }
   ],
   "source": [
    "df = pd.DataFrame(model_performance) \n",
    "print(df)"
   ]
  },
  {
   "cell_type": "code",
   "execution_count": 57,
   "id": "5cf7f9f3",
   "metadata": {},
   "outputs": [
    {
     "name": "stdout",
     "output_type": "stream",
     "text": [
      "Tech News\n"
     ]
    }
   ],
   "source": [
    "classifier = RandomForestClassifier(n_estimators=100 ,criterion='entropy' , random_state=0).fit(x_train, y_train)\n",
    "classifier\n",
    "y_pred = classifier.predict(x_test)\n",
    "input1=' iran jails blogger for 14 years an by handing down this harsh sentence against a weblogger  their aim is to dissuade journalists and internet-users from expressing themselves online or contacting foreign media.  in the days before his arrest mr sigarchi gave interviews to the bbc persian service and the us-funded radio farda. iranian authorities have arrested about 20 online journalists during the current crackdown. they accused mr sigarchi of a string of crimes against iranian state  including espionage  insulting the founder of iran s islamic republic  ayatollah ruhollah khomenei  and current supreme leader ayatollah ali khamenei. mr sigarchi s lawyer labelled the revolutionary court  illegal and incompetent  and called for a retrial in a public court.  mr sigarchi was sentenced one day after an online campaign highlighted his case in a day of action in defence of bloggers around the world.  the committee to protect bloggers designated 22 february 2005 as free mojtaba and arash day. around 10 000 people visited the campaign s website during the day. about 12% of users were based in iran  the campaign s director told the bbc news website. curt hopkins said mr sigarchi s sentence would not dent the resolve of bloggers joining the campaign to help highlight the case.  the eyes of 8 million bloggers are going to be more focused on iran since sigarchi s sentence  not less.  the mullahs won t be able to make a move without it be spread across the blogosphere.'\n",
    "y_pred = cv.transform([input1])\n",
    "yy = classifier.predict(y_pred)\n",
    "result = \"\"\n",
    "if yy == [0]:\n",
    "  result = \"Business News\"\n",
    "elif yy == [1]:\n",
    "  result = \"Tech News\"\n",
    "elif yy == [2]:\n",
    "  result = \"Politics News\"\n",
    "elif yy == [3]:\n",
    "  result = \"Sports News\"\n",
    "elif yy == [4]:\n",
    "  result = \"Entertainment News\"\n",
    "print(result)"
   ]
  },
  {
   "cell_type": "code",
   "execution_count": 34,
   "id": "abbfe40f",
   "metadata": {},
   "outputs": [],
   "source": [
    "# from tensorflow.keras.models import load_model\n",
    "# # model.save('model_resnet50.h5')\n",
    "# keras.save_model(format='h5')\n",
    "\n",
    "\n",
    "\n",
    "\n"
   ]
  },
  {
   "cell_type": "code",
   "execution_count": null,
   "id": "f86d5ddd",
   "metadata": {},
   "outputs": [],
   "source": []
  }
 ],
 "metadata": {
  "kernelspec": {
   "display_name": "Python 3.10.6 64-bit",
   "language": "python",
   "name": "python3"
  },
  "language_info": {
   "codemirror_mode": {
    "name": "ipython",
    "version": 3
   },
   "file_extension": ".py",
   "mimetype": "text/x-python",
   "name": "python",
   "nbconvert_exporter": "python",
   "pygments_lexer": "ipython3",
   "version": "3.10.6"
  },
  "vscode": {
   "interpreter": {
    "hash": "34038a3681c073d5b3bc5e79471433f4922ba43655007be1630e72511cc89cdf"
   }
  }
 },
 "nbformat": 4,
 "nbformat_minor": 5
}
